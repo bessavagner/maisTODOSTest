{
 "cells": [
  {
   "cell_type": "markdown",
   "metadata": {},
   "source": [
    "# Testando a documentação\n",
    "\n",
    "[http://localhost:5000/api/docs/#/](http://localhost:5000/api/docs/#/)"
   ]
  },
  {
   "cell_type": "code",
   "execution_count": null,
   "metadata": {},
   "outputs": [],
   "source": [
    "%load_ext autoreload\n",
    "%autoreload 2"
   ]
  },
  {
   "cell_type": "markdown",
   "metadata": {},
   "source": [
    "## API adptada da aplicação"
   ]
  },
  {
   "cell_type": "code",
   "execution_count": null,
   "metadata": {},
   "outputs": [],
   "source": [
    "from adapters import CreditCardsHandlerAPI"
   ]
  },
  {
   "cell_type": "code",
   "execution_count": null,
   "metadata": {},
   "outputs": [],
   "source": [
    "import requests\n",
    "\n",
    "# dummy data\n",
    "from constants import USER_DATA\n",
    "from constants import CREDIT_CARD_DATA"
   ]
  },
  {
   "cell_type": "code",
   "execution_count": null,
   "metadata": {},
   "outputs": [],
   "source": [
    "handler = CreditCardsHandlerAPI()"
   ]
  },
  {
   "cell_type": "markdown",
   "metadata": {},
   "source": [
    "### Usuários"
   ]
  },
  {
   "cell_type": "code",
   "execution_count": null,
   "metadata": {},
   "outputs": [],
   "source": [
    "# criando usuários\n",
    "\n",
    "response1 = handler.create_user(**USER_DATA['user_01'])\n",
    "response2 = handler.create_user(**USER_DATA['user_02'])\n",
    "print(f\"Response 1 code: {response1.status_code}\")\n",
    "print(f\"Response 2 code: {response2.status_code}\")\n",
    "try:\n",
    "    print(f\"message 1: {response1.json()}\")\n",
    "except requests.JSONDecodeError:\n",
    "    print(f\"message 1: {response1.content}\")\n",
    "try:\n",
    "    print(f\"message 2: {response2.json()}\")\n",
    "except requests.JSONDecodeError:\n",
    "    print(f\"message 2: {response2.content}\")"
   ]
  },
  {
   "cell_type": "code",
   "execution_count": null,
   "metadata": {},
   "outputs": [],
   "source": [
    "# tentando criar criando usuário existente\n",
    "\n",
    "response = handler.create_user(**USER_DATA['user_02'])\n",
    "print(f\"Response code: {response.status_code}\")\n",
    "try:\n",
    "    print(f\"message: {response.json()}\")\n",
    "except requests.JSONDecodeError:\n",
    "    print(f\"message: {response.content}\")"
   ]
  },
  {
   "cell_type": "code",
   "execution_count": null,
   "metadata": {},
   "outputs": [],
   "source": [
    "# log in\n",
    "# Necessário para criar, alterar ou deletar cartões\n",
    "\n",
    "user = USER_DATA['user_01']['email']\n",
    "password = USER_DATA['user_01']['password']\n",
    "\n",
    "response = handler.login(user, password)\n",
    "\n",
    "data = None\n",
    "auth = None\n",
    "\n",
    "try:\n",
    "    data = response.json()\n",
    "    auth = data['token']\n",
    "except requests.JSONDecodeError:\n",
    "    print(f\"message: {response.content}\")\n",
    "\n",
    "\n",
    "print(f\"Response code: {response.status_code}\")\n",
    "try:\n",
    "    print(f\"message: {data}\")\n",
    "except requests.JSONDecodeError:\n",
    "    print(f\"message: {response.content}\")\n"
   ]
  },
  {
   "cell_type": "code",
   "execution_count": null,
   "metadata": {},
   "outputs": [],
   "source": [
    "# criando cartões\n",
    "# variável 'auth' necessária da célula anterior\n",
    "\n",
    "response1 = handler.create_card(**CREDIT_CARD_DATA['card_01'], auth=auth)\n",
    "response2 = handler.create_card(**CREDIT_CARD_DATA['card_02'], auth=auth)\n",
    "print(f\"Response 1 code: {response1.status_code}\")\n",
    "print(f\"Response 2 code: {response2.status_code}\")\n",
    "\n",
    "try:\n",
    "    print(f\"message 1: {response1.json()}\")\n",
    "except requests.JSONDecodeError:\n",
    "    print(f\"message 1: {response1.content}\")\n",
    "try:\n",
    "    print(f\"message 2: {response2.json()}\")\n",
    "except requests.JSONDecodeError:\n",
    "    print(f\"message 2: {response2.content}\")\n",
    "\n",
    "\n",
    "print(f\"Cartões: {handler.credit_cards()}\")"
   ]
  },
  {
   "cell_type": "code",
   "execution_count": null,
   "metadata": {},
   "outputs": [],
   "source": [
    "# Acessando lista de cartões\n",
    "\n",
    "response = handler.credit_cards()\n",
    "\n",
    "print(f\"Response code: {response.status_code}\")\n",
    "try:\n",
    "    print(f\"message: {response.json()}\")\n",
    "except requests.JSONDecodeError:\n",
    "    print(f\"message: {response.content}\")"
   ]
  },
  {
   "cell_type": "code",
   "execution_count": null,
   "metadata": {},
   "outputs": [],
   "source": [
    "# handler.session.close()"
   ]
  }
 ],
 "metadata": {
  "kernelspec": {
   "display_name": ".venv",
   "language": "python",
   "name": "python3"
  },
  "language_info": {
   "codemirror_mode": {
    "name": "ipython",
    "version": 3
   },
   "file_extension": ".py",
   "mimetype": "text/x-python",
   "name": "python",
   "nbconvert_exporter": "python",
   "pygments_lexer": "ipython3",
   "version": "3.8.16"
  }
 },
 "nbformat": 4,
 "nbformat_minor": 2
}
